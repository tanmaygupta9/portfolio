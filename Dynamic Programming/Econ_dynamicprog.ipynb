{
 "cells": [
  {
   "cell_type": "markdown",
   "metadata": {},
   "source": [
    "# Introduction"
   ]
  },
  {
   "cell_type": "markdown",
   "metadata": {},
   "source": [
    "This notebook was prepared as an extension of a computational assignment for ECON 23200 Topics in Macroeconomics at UChicago. The goal was to numerically solve the standard neoclassical growth using value function iteration, and several improvement algorithms that perform the value function iteration quicker than a \"brute force\" algorithm. \n",
    "\n",
    "Recall that in this setup preferences are given by \n",
    "$$\n",
    "\\sum_{t=0}^{\\infty} \\beta^{t} \\ln c_{t}\n",
    "$$\n",
    "subject to $c_{t} + k_{t+1} = zk_{t}^{\\alpha} + (1-\\delta)k_{t}$ where $c_t, k_t$ refer to consumption and capital at time $t$, respectively. \n",
    "\n",
    "In what follows, we will numerically solve for the optimal consumption and capital paths by first formulating this problem as a Bellman equation and then solving the Bellman equation using Value Function Iteration. The parameters we will use are $\\beta = 0.98$, $\\alpha = \\frac{1}{3}$, $\\delta = 1$, $z = 1$. "
   ]
  },
  {
   "cell_type": "markdown",
   "metadata": {},
   "source": [
    "# A. Theoretical Benchmark"
   ]
  },
  {
   "cell_type": "markdown",
   "metadata": {},
   "source": [
    "\n",
    "\n",
    "1.  The Bellman equation is \n",
    "$$\n",
    "V(k) = \\max_{k' \\in [0, zk^{\\alpha}]} (\\ln(zk^{\\alpha} - k') + \\beta V(k'))\n",
    "$$\n",
    "Or, plugging in the given parameters, \n",
    "\n",
    "$$\n",
    "V(k) = \\max_{k' \\in [0, k^{\\frac{1}{3}}]} (\\ln(k^{\\frac{1}{3}} - k') + 0.98 V(k'))\n",
    "$$\n",
    "\n",
    "\n",
    "\n",
    "\n",
    "\n",
    "4. We want to analytically solve the model first to compare with our numerical solution. Guess and Verify: We guess the value function $V(k) = a \\log(k) + b$. Through some algebra, we will obtain\n",
    "\n",
    "$$\n",
    "\\boxed{g(k) = (\\frac{1}{3} \\beta) k^{\\frac{1}{3}} = 0.32 k^{\\frac{1}{3}}}\n",
    "$$\n",
    "And the value function is \n",
    "$$\n",
    "\\boxed{V(k) = 0.49 \\ln(k) - 46.9}\n",
    "$$\n",
    "Note that in order to solve for optimal consumption and capital paths using Bellman equations, it is necessary to solve for the value function and the optimal policy functions for consumption and capital, which is what we have analytically done here. Below, we begin numerically solving for these. "
   ]
  },
  {
   "cell_type": "code",
   "execution_count": 9,
   "metadata": {},
   "outputs": [],
   "source": [
    "#imports \n",
    "import numpy as np \n",
    "import time \n",
    "import matplotlib.pyplot as plt  "
   ]
  },
  {
   "cell_type": "markdown",
   "metadata": {},
   "source": [
    "Before we move to the value function iterations, let's set up some things below. In particular we first need to discretize the state space, set parameter values, and define our utility function. "
   ]
  },
  {
   "cell_type": "code",
   "execution_count": 10,
   "metadata": {},
   "outputs": [],
   "source": [
    "#parameter values\n",
    "z = 1 \n",
    "delta = 1 \n",
    "alpha = 1/3 \n",
    "beta = 0.98 \n",
    "epsilon = 1e-5 #tolerance level \n",
    "kss = 0.186 #Steady state capital as computed above\n",
    "n = 200 \n",
    "\n",
    "#Discretizing the state space: \n",
    "start = 0.05 \n",
    "stop = 1.2 \n",
    "d_state_space = np.linspace(start, stop, n)\n",
    "for i in range(len(d_state_space)): \n",
    "    d_state_space[i] = d_state_space[i]*kss\n",
    "#The object d_state_space is now the vector (0.05kss,....,1.2kss) with n = 200 \n",
    "\n",
    "#Utility function \n",
    "utility = lambda c: np.log(c) "
   ]
  },
  {
   "cell_type": "markdown",
   "metadata": {},
   "source": [
    "# B. Brute Force Value Function Iteration"
   ]
  },
  {
   "cell_type": "markdown",
   "metadata": {},
   "source": [
    "At each step, we will have an $n \\times 1$ matrix (or $n$-dimensional vector) with our current values $v(k_{i})$ for $1 \\leq i \\leq n = 200$. We begin with $V^{(0)}(k) = \\{V^{(0)}_{1}, V^{(0)}_{2}, \\dots, V^{(0)}_{200}\\} = (0, \\dots, 0)$. The initial guess doesn't matter since the CMT ensures convergence (and so we will always get as close as we desire, eventually). \n",
    "\n",
    "**Answers to questions**: The program takes $64.5$ seconds to run. The code and the plots for $V$ and the $c$ and $k'$ policy functions are provided below. We note that the results agree with what we found in A.: All three are strictly increasing in $k$. Furthermore, "
   ]
  },
  {
   "cell_type": "code",
   "execution_count": 120,
   "metadata": {},
   "outputs": [
    {
     "name": "stdout",
     "output_type": "stream",
     "text": [
      "It took 64.54055500030518 seconds to run this\n"
     ]
    }
   ],
   "source": [
    "#Initializing \n",
    "start_time = time.time()\n",
    "\n",
    "\n",
    "v_guess = np.zeros(n) #initial guess for value function\n",
    "error = 1 #initial margin of error -- will stop loop when this is less than epsilon\n",
    "counter = 0 #counting the number of iterations \n",
    "max_iter = 1000 #maximum number of iterations \n",
    "\n",
    "#Iterating\n",
    "v = v_guess #setting v to our initial guess \n",
    "while counter <= max_iter and error > epsilon: \n",
    "    counter = counter + 1 \n",
    "    prev_v = v #vector v from the previous iteration \n",
    "    v = np.zeros(n) #This is the v for next period, which we will update in the next two loops \n",
    "    g = np.zeros(n) #Policy vector \n",
    "    k_prime = np.zeros(n) #how much capital is carried over to the next period \n",
    "    consumption = np.zeros(n) #consumption \n",
    "    trial = np.zeros(n)\n",
    "    \n",
    "    #looping over state space for current capital\n",
    "    for i in range(len(d_state_space)): \n",
    "        prev_k = d_state_space[i]\n",
    "        choices = np.zeros(n) #an array of zeros, which will store the potential choices for k' given k\n",
    "        \n",
    "        #looping over state space for future capital choice \n",
    "        for j in range(n): \n",
    "            c = prev_k**alpha - d_state_space[j]\n",
    "            t = 0 \n",
    "            if c > 0: \n",
    "                t = utility(c) + beta*prev_v[j] \n",
    "            else: \n",
    "                t = -99 \n",
    "            choices[j] = t \n",
    "            \n",
    "        #At this point, the j loop is finished, and we have constructed choices (given i); now we find max of choices\n",
    "        #In particular, we need to find the maximum of 'choices' and its index \n",
    "        max_v = np.amax(choices) #the maximum value of the vector 'choices' \n",
    "        max_policy = np.where(choices == max_v)[0][0] #returns the j for which choices is maximum \n",
    "        v[i] = max_v #updating value vector\n",
    "        g[i] = max_policy #updating policy vector\n",
    "        k_prime[i] = d_state_space[int(g[i])]\n",
    "        consumption[i] = (d_state_space[i]**alpha)-(d_state_space[int(g[i])])\n",
    "        \n",
    "\n",
    "    #Now, the i loop is finished, and we have updated the value vector for the next iteration\n",
    "    #We also have the policy vector g\n",
    "    error = np.amax(abs(v-prev_v)) \n",
    "\n",
    "print(\"It took\", time.time() - start_time, \"seconds to run this\")\n",
    "    \n",
    "\n",
    "\n"
   ]
  },
  {
   "cell_type": "code",
   "execution_count": 125,
   "metadata": {},
   "outputs": [
    {
     "data": {
      "image/png": "[encoded data removed]",
      "text/plain": [
       "<Figure size 432x288 with 1 Axes>"
      ]
     },
     "metadata": {
      "needs_background": "light"
     },
     "output_type": "display_data"
    }
   ],
   "source": [
    "#Plots\n",
    "\n",
    "#Value function \n",
    "plt.plot(d_state_space, v)\n",
    "plt.xlabel(\"k\")\n",
    "plt.ylabel(\"Value function\")\n",
    "plt.show()"
   ]
  },
  {
   "cell_type": "code",
   "execution_count": 124,
   "metadata": {},
   "outputs": [
    {
     "data": {
      "image/png": "[encoded data removed]",
      "text/plain": [
       "<Figure size 432x288 with 1 Axes>"
      ]
     },
     "metadata": {
      "needs_background": "light"
     },
     "output_type": "display_data"
    },
    {
     "data": {
      "image/png": "[encoded data removed]",
      "text/plain": [
       "<Figure size 432x288 with 1 Axes>"
      ]
     },
     "metadata": {
      "needs_background": "light"
     },
     "output_type": "display_data"
    }
   ],
   "source": [
    "#Policy functions \n",
    "plt.plot(d_state_space, consumption) \n",
    "plt.xlabel(\"k\")\n",
    "plt.ylabel(\"consumption\")\n",
    "plt.show()\n",
    "\n",
    "\n",
    "plt.plot(d_state_space, k_prime)\n",
    "plt.xlabel(\"k\")\n",
    "plt.ylabel(\"k carried over\")\n",
    "plt.show()"
   ]
  },
  {
   "cell_type": "markdown",
   "metadata": {},
   "source": [
    "# C. An Improved Initial Guess "
   ]
  },
  {
   "cell_type": "markdown",
   "metadata": {},
   "source": [
    "Rather than guessing $V^{(0)} = (0, \\dots, 0)$ now, we will guess\n",
    "$$\n",
    "V^{(0)} = \\left\\{\\frac{u(f(k_{i}) - \\delta k_{i})}{1 - \\beta}\\right\\}_{i=1}^{n}\n",
    "$$\n",
    "The economic intuition of this guess is that $V$ is now being set to be the presented discounted value of the steady state level of consumption. This means that for any $k_{i}$, the $k_{j}$ chosen (i.e. the capital carried over to the next period) will be close to $k_{i}$ (as opposed to the random guess in A), and so convergence will be faster. Indeed, this is what we see, since convergence happens in $7$ iterations here, as opposed to over $500$ in A. \n",
    "\n",
    "As seen below, the value function iteration with this improved initial guess converges in $0.87$ seconds! This is a drastic improvement from the $64.5$ seconds it took A. to converge (since we're already starting close to limit value function). "
   ]
  },
  {
   "cell_type": "code",
   "execution_count": 11,
   "metadata": {},
   "outputs": [
    {
     "name": "stdout",
     "output_type": "stream",
     "text": [
      "This took 0.8778822422027588 to run\n"
     ]
    },
    {
     "data": {
      "text/plain": [
       "7"
      ]
     },
     "execution_count": 11,
     "metadata": {},
     "output_type": "execute_result"
    }
   ],
   "source": [
    "#Time \n",
    "start_time = time.time()\n",
    "\n",
    "#Constructing v_guess\n",
    "guess_func = lambda k: (utility(z*(k**alpha) -  delta*k))/(1-beta)\n",
    "v_guess = guess_func(d_state_space)\n",
    "\n",
    "#Initializing \n",
    "v = v_guess\n",
    "error = 1 \n",
    "counter = 0 \n",
    "max_iter = 1000 \n",
    "\n",
    "#Running loops -- code remains exactly the same as before \n",
    "while counter <= max_iter and error > epsilon: \n",
    "    counter = counter + 1 \n",
    "    prev_v = v \n",
    "    v = np.zeros(n) \n",
    "    g = np.zeros(n) \n",
    "    \n",
    "    #looping over state space for current capital\n",
    "    for i in range(len(d_state_space)): \n",
    "        prev_k = d_state_space[i]\n",
    "        choices = np.zeros(n) \n",
    "        \n",
    "        #looping over state space for future capital choice \n",
    "        for j in range(n): \n",
    "            c = prev_k**alpha - d_state_space[j]\n",
    "            t = 0 \n",
    "            if c > 0: \n",
    "                t = utility(c) + beta*prev_v[j] \n",
    "            else: \n",
    "                t = -99 \n",
    "            choices[j] = t \n",
    "            \n",
    "        \n",
    "        max_v = np.amax(choices) \n",
    "        max_policy = np.where(choices == max_v)[0][0] \n",
    "        v[i] = max_v \n",
    "        g[i] = max_policy \n",
    "\n",
    "    \n",
    "    error = np.amax(abs(v-prev_v)) \n",
    "\n",
    "print(\"This took\", time.time() - start_time, \"to run\")"
   ]
  },
  {
   "cell_type": "markdown",
   "metadata": {},
   "source": [
    "# D. Improved Decision Process"
   ]
  },
  {
   "cell_type": "markdown",
   "metadata": {},
   "source": [
    "We will now speed up convergence -- compared to A -- by exploiting the fact that the policy rule $g$ is strictly increasing in $k_{i}$. For each i, the set the j roop runs over can be made smaller to make the code implement faster.\n",
    "\n",
    "As noted, A. took $64.5$ seconds to run. As seen below, the program below -- with the improved decision process -- only took $26.3$ seconds to run, so we have more the halved the time. The result coincide with those obtained in part A. "
   ]
  },
  {
   "cell_type": "code",
   "execution_count": 126,
   "metadata": {},
   "outputs": [
    {
     "name": "stdout",
     "output_type": "stream",
     "text": [
      "This took 26.276169061660767 seconds to run\n"
     ]
    }
   ],
   "source": [
    "#Time \n",
    "start_time = time.time()\n",
    "\n",
    "\n",
    "#Initializing\n",
    "v_guess = np.zeros(n)\n",
    "g_guess = np.zeros(n)\n",
    "v = v_guess\n",
    "g = g_guess\n",
    "error = 1 \n",
    "counter = 0 \n",
    "max_iter = 1000 \n",
    "\n",
    "#Running loops -- notice changes below \n",
    "while counter <= max_iter and error > epsilon: \n",
    "    counter = counter + 1 \n",
    "    prev_v = v \n",
    "    prev_g = g\n",
    "    v = np.zeros(n) \n",
    "    g = np.zeros(n) \n",
    "    \n",
    "    #Let's deal with the i == 0 case first \n",
    "    prev_k = d_state_space[0] \n",
    "    choices = np.zeros(n)\n",
    "    for j in range(n): \n",
    "        c = prev_k**alpha - d_state_space[j]\n",
    "        t = 0 \n",
    "        if c > 0: \n",
    "            t = utility(c) + beta*prev_v[j] \n",
    "        else: \n",
    "            t = -99 \n",
    "        choices[j] = t \n",
    "    \n",
    "    max_v = np.amax(choices) \n",
    "    max_policy = np.where(choices == max_v)[0][0] \n",
    "    v[0] = max_v \n",
    "    g[0] = max_policy     \n",
    "        \n",
    "        \n",
    "        \n",
    "    #looping over state space for current capital, for i \\geq 1 \n",
    "    for i in range(1,n): \n",
    "        prev_k = d_state_space[i]\n",
    "        choices = np.zeros(n - int(prev_g[i-1])) \n",
    "        for j in range(int(prev_g[i-1]), n): #Note the change here from before, we start at g[i-1] and not 0 \n",
    "            c = prev_k**alpha - d_state_space[j]\n",
    "            t = 0 \n",
    "            if c > 0: \n",
    "                t = utility(c) + beta*prev_v[j] \n",
    "            else: \n",
    "                t = -99 \n",
    "            choices[j-int(prev_g[i-1])] = t \n",
    "        \n",
    "        max_v = np.amax(choices) \n",
    "        max_policy = np.where(choices == max_v)[0][0] + prev_g[i-1]\n",
    "        v[i] = max_v \n",
    "        g[i] = max_policy \n",
    "\n",
    "    \n",
    "    error = np.amax(abs(v-prev_v))\n",
    "\n",
    "print(\"This took\", time.time() - start_time, \"seconds to run\")"
   ]
  },
  {
   "cell_type": "markdown",
   "metadata": {},
   "source": [
    "# E. Storing the Return Function"
   ]
  },
  {
   "cell_type": "markdown",
   "metadata": {},
   "source": [
    "Rather than extensively doing everything in the loop, we can also do this using some linear algebra/matrix operations. The return_function matrix is key to this. The $(i,j)$ entry in this matrix is the value of having capital level $i$ today and capital level $j$ tomorrow. \n",
    "\n",
    "Convergence takes $0.07$ seconds. The resultant value function coincides with that obtained in A. "
   ]
  },
  {
   "cell_type": "code",
   "execution_count": 130,
   "metadata": {},
   "outputs": [
    {
     "name": "stdout",
     "output_type": "stream",
     "text": [
      "This took 0.07885313034057617 seconds to run\n"
     ]
    }
   ],
   "source": [
    "#Time \n",
    "start_time = time.time()\n",
    "\n",
    "#Setting initial values\n",
    "error = 1 \n",
    "counter = 0 \n",
    "max_iter = 1000 \n",
    "v_guess = np.zeros(n)\n",
    "\n",
    "\n",
    "#Constructing matrices, as described above. 'return_function' is the matrix of interest; s_today and s_tomorrow are intermediate\n",
    "s_today = np.tile(z*(d_state_space**alpha), (n, 1)) #Row i is identically z(k_i^alpha)\n",
    "s_tomorrow = np.tile(d_state_space, (n,1)).transpose() #row j is identically k_j\n",
    "return_function = s_today - s_tomorrow\n",
    "return_function[return_function < 0] = np.exp(-99) #Just to ensure that we are able to take the log of this matrix, and that negative values are assigned -99\n",
    "return_function = utility(return_function)\n",
    "\n",
    "\n",
    "#Now we have constructed the matrix return_function and can run the VFI \n",
    "v = v_guess\n",
    "while counter <= max_iter and error > epsilon: \n",
    "    counter = counter + 1 \n",
    "    prev_v = v \n",
    "    prev_v_matrix = np.tile(prev_v, (n,1))\n",
    "    v = np.zeros(n)\n",
    "    return_value = np.zeros((n,n))\n",
    "    return_value = return_function + beta*prev_v_matrix \n",
    "    v = np.amax(return_value, 1) #maximum value for each row is stored in the array v \n",
    "    error = np.amax(abs(v-prev_v))\n",
    "\n",
    "print(\"This took\", time.time() - start_time, \"seconds to run\")"
   ]
  },
  {
   "cell_type": "markdown",
   "metadata": {},
   "source": [
    "# F. Howard's Algorithm "
   ]
  },
  {
   "cell_type": "markdown",
   "metadata": {},
   "source": [
    "Now we improve upon D. even further by using Howards improvement alogirthm. This uses the fact that maximization is the most time-consuming part of the algorithm and thus minimizes the number of maximizations. In each iteration of updating the value function (maximizing), the policy function is updated several times using the same value function. This reduces the number of maximizations needed to reach convergence and speeds up the process. Convergence takes $3.7$ seconds. "
   ]
  },
  {
   "cell_type": "code",
   "execution_count": 131,
   "metadata": {},
   "outputs": [
    {
     "name": "stdout",
     "output_type": "stream",
     "text": [
      "This took 3.6847901344299316 seconds to run\n"
     ]
    }
   ],
   "source": [
    "#Time \n",
    "start_time = time.time()\n",
    "\n",
    "#Initializing\n",
    "v_guess = np.zeros(n)\n",
    "g_guess = np.zeros(n)\n",
    "v = v_guess\n",
    "g = g_guess\n",
    "error = 1 \n",
    "counter = 0 \n",
    "max_iter = 1000 \n",
    "\n",
    "#Running loops -- notice changes below \n",
    "while counter <= max_iter and error > epsilon: \n",
    "    counter = counter + 1 \n",
    "    prev_v = v \n",
    "    prev_g = g\n",
    "    v = np.zeros(n) \n",
    "    g = np.zeros(n) \n",
    "    \n",
    "    #Let's deal with the i == 0 case first \n",
    "    prev_k = d_state_space[0] \n",
    "    choices = np.zeros(n)\n",
    "    for j in range(n): \n",
    "        c = prev_k**alpha - d_state_space[j]\n",
    "        t = 0 \n",
    "        if c > 0: \n",
    "            t = utility(c) + beta*prev_v[j] \n",
    "        else: \n",
    "            t = -99 \n",
    "        choices[j] = t \n",
    "    \n",
    "    max_v = np.amax(choices) \n",
    "    max_policy = np.where(choices == max_v)[0][0] \n",
    "    v[0] = max_v \n",
    "    g[0] = max_policy     \n",
    "        \n",
    "        \n",
    "        \n",
    "    #looping over state space for current capital, for i \\geq 1 \n",
    "    for i in range(1,n): \n",
    "        prev_k = d_state_space[i]\n",
    "        choices = np.zeros(n - int(prev_g[i-1])) \n",
    "        for j in range(int(prev_g[i-1]), n): #Note the change here from before, we start at g[i-1] and not 0 \n",
    "            c = prev_k**alpha - d_state_space[j]\n",
    "            t = 0 \n",
    "            if c > 0: \n",
    "                t = utility(c) + beta*prev_v[j] \n",
    "            else: \n",
    "                t = -99 \n",
    "            choices[j-int(prev_g[i-1])] = t \n",
    "        \n",
    "        max_v = np.amax(choices) \n",
    "        max_policy = np.where(choices == max_v)[0][0] + prev_g[i-1]\n",
    "        v[i] = max_v \n",
    "        g[i] = max_policy \n",
    "\n",
    "    #Howard's improvement: updating the value function a few more times before iterating again \n",
    "    counter_h = 0\n",
    "    n_h = 100\n",
    "    while counter_h < n_h: \n",
    "        counter_h = counter_h + 1\n",
    "        v_0 = v #v_0 as in problem set\n",
    "        v_1 = np.zeros(n) \n",
    "        for i in range(n): \n",
    "            c = z*(d_state_space[i]**alpha) - d_state_space[int(g[i])]\n",
    "            if c > 0:\n",
    "                v_1[i] = utility(c)+beta*v_0[int(g[i])] #This is the function we will update from\n",
    "            else: \n",
    "                v_1[i] = -99\n",
    "        v = v_1 #v_1 and v_0 are just intermediate arrays used in the updating process; v is what we're interested in \n",
    "    \n",
    "    error = np.amax(abs(v-prev_v)) #After the \"Howard loop\" is finished, we continue with the regular loop\n",
    "    \n",
    "print(\"This took\", time.time()-start_time, \"seconds to run\")"
   ]
  },
  {
   "cell_type": "markdown",
   "metadata": {},
   "source": [
    "# G. Combining Methods E and F"
   ]
  },
  {
   "cell_type": "markdown",
   "metadata": {},
   "source": [
    "In this case, we want to add Howard's imrovement to the matrix method presented in part E. "
   ]
  },
  {
   "cell_type": "code",
   "execution_count": 2,
   "metadata": {},
   "outputs": [
    {
     "ename": "NameError",
     "evalue": "name 'time' is not defined",
     "output_type": "error",
     "traceback": [
      "\u001b[0;31m---------------------------------------------------------------------------\u001b[0m",
      "\u001b[0;31mNameError\u001b[0m                                 Traceback (most recent call last)",
      "\u001b[0;32m<ipython-input-2-c47a6c819b0e>\u001b[0m in \u001b[0;36m<module>\u001b[0;34m\u001b[0m\n\u001b[1;32m      1\u001b[0m \u001b[0;31m#Time\u001b[0m\u001b[0;34m\u001b[0m\u001b[0;34m\u001b[0m\u001b[0;34m\u001b[0m\u001b[0m\n\u001b[0;32m----> 2\u001b[0;31m \u001b[0mstart_time\u001b[0m \u001b[0;34m=\u001b[0m \u001b[0mtime\u001b[0m\u001b[0;34m.\u001b[0m\u001b[0mtime\u001b[0m\u001b[0;34m(\u001b[0m\u001b[0;34m)\u001b[0m\u001b[0;34m\u001b[0m\u001b[0;34m\u001b[0m\u001b[0m\n\u001b[0m\u001b[1;32m      3\u001b[0m \u001b[0;34m\u001b[0m\u001b[0m\n\u001b[1;32m      4\u001b[0m \u001b[0;34m\u001b[0m\u001b[0m\n\u001b[1;32m      5\u001b[0m \u001b[0;31m#Setting initial values\u001b[0m\u001b[0;34m\u001b[0m\u001b[0;34m\u001b[0m\u001b[0;34m\u001b[0m\u001b[0m\n",
      "\u001b[0;31mNameError\u001b[0m: name 'time' is not defined"
     ]
    }
   ],
   "source": [
    "#Time \n",
    "start_time = time.time()\n",
    "\n",
    "\n",
    "#Setting initial values\n",
    "error = 1 \n",
    "counter = 0 \n",
    "max_iter = 1000 \n",
    "v_guess = np.zeros(n)\n",
    "\n",
    "\n",
    "#Constructing matrices, as described above. 'return_function' is the matrix of interest; s_today and s_tomorrow are intermediate\n",
    "s_today = np.tile(z*(d_state_space**alpha), (n, 1)) #Row i is identically z(k_i^alpha)\n",
    "s_tomorrow = np.tile(d_state_space, (n,1)).transpose() #row j is identically k_j\n",
    "return_function = s_today - s_tomorrow\n",
    "return_function[return_function < 0] = np.exp(-99) #Just to ensure that we are able to take the log of this matrix, and that negative values are assigned -99\n",
    "return_function = utility(return_function)\n",
    "\n",
    "\n",
    "#Now we have constructed the matrix return_function and can run the VFI \n",
    "v = v_guess\n",
    "while counter <= max_iter and error > epsilon: \n",
    "    counter = counter + 1 \n",
    "    prev_v = v \n",
    "    prev_v_matrix = np.tile(prev_v, (n,1))\n",
    "    v = np.zeros(n)\n",
    "    return_value = np.zeros((n,n))\n",
    "    return_value = return_function + beta*prev_v_matrix \n",
    "    v = np.amax(return_value, 1) #maximum value for each row is stored in the array v \n",
    "    g = np.argmax(return_value, 1) #policy vector\n",
    "    \n",
    "     #Howard's improvement \n",
    "    counter_h = 0\n",
    "    n_h = 100\n",
    "    while counter_h < n_h: \n",
    "        counter_h = counter_h + 1\n",
    "        v_0 = v \n",
    "        v_1 = np.zeros(n) \n",
    "        for i in range(n): \n",
    "            c = z*(d_state_space[i]**alpha) - d_state_space[int(g[i])]\n",
    "            if c > 0:\n",
    "                v_1[i] = utility(c)+beta*v_0[int(g[i])] #This is the function we will update from\n",
    "            else: \n",
    "                v_1[i] = v_0[i]\n",
    "        v = v_1\n",
    "    \n",
    "    \n",
    "    \n",
    "    \n",
    "    error = np.amax(abs(v-prev_v))\n",
    "\n",
    "print(\"This took\", time.time() - start_time, \"seconds to run\")\n",
    "\n",
    "\n",
    "\n",
    "    "
   ]
  },
  {
   "cell_type": "markdown",
   "metadata": {},
   "source": [
    "**Unnecessary calculations avoided**: In each step, we avoided several unnecessary calculations. In. \n",
    "\n",
    "The computational time for each algorithm is below: \n",
    "1. **Brute Force VFI**: 64.5 seconds\n",
    "2. **Improved Initial Guess**: 0.87 seconds \n",
    "3. **Improved Decision Process**: 26.27 seconds\n",
    "4. **Storing the return function**: 0.07 seconds\n",
    "5. **Howard's Improvement**: 3.68 seconds \n",
    "6. **Howard's Improvement + Storing the return function**: 0.68 seconds"
   ]
  }
 ],
 "metadata": {
  "kernelspec": {
   "display_name": "Python 3",
   "language": "python",
   "name": "python3"
  },
  "language_info": {
   "codemirror_mode": {
    "name": "ipython",
    "version": 3
   },
   "file_extension": ".py",
   "mimetype": "text/x-python",
   "name": "python",
   "nbconvert_exporter": "python",
   "pygments_lexer": "ipython3",
   "version": "3.8.6"
  }
 },
 "nbformat": 4,
 "nbformat_minor": 4
}
